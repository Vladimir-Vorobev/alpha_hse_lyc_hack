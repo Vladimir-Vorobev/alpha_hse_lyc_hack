{
 "cells": [
  {
   "cell_type": "code",
   "execution_count": 1,
   "id": "f817b824",
   "metadata": {},
   "outputs": [],
   "source": [
    "import pandas as pd\n",
    "\n",
    "from tqdm import tqdm\n",
    "from copy import deepcopy"
   ]
  },
  {
   "cell_type": "code",
   "execution_count": 2,
   "id": "ea45dd09",
   "metadata": {},
   "outputs": [],
   "source": [
    "dataset_train = pd.read_parquet(\"dataset_train_small.parquet\")\n",
    "target_train = pd.read_parquet(\"target_train_small.parquet\")\n",
    "\n",
    "dataset_test = pd.read_parquet(\"dataset_test.parquet\")\n",
    "target_test = pd.read_parquet(\"target_test_contest.parquet\")"
   ]
  },
  {
   "cell_type": "code",
   "execution_count": 3,
   "id": "7148c3eb",
   "metadata": {},
   "outputs": [],
   "source": [
    "num_cat_features = [\n",
    "    'amnt', 'currency', 'operation_kind', 'card_type', 'operation_type', 'operation_type_group','ecommerce_flag',\n",
    "    'payment_system', 'mcc', 'country', 'city', 'mcc_category', 'day_of_week', 'hour', 'days_before', 'weekofyear', 'hour_diff'\n",
    "]\n",
    "\n",
    "cat_features = [\n",
    "    'currency', 'operation_kind', 'card_type', 'operation_type', 'operation_type_group','ecommerce_flag',\n",
    "    'payment_system', 'mcc', 'country', 'city', 'mcc_category', 'day_of_week', 'hour', 'days_before', 'weekofyear', 'hour_diff'\n",
    "]\n",
    "\n",
    "aggs = ['mean', 'max', 'min', 'count', 'std', 'median', 'sum', set]"
   ]
  },
  {
   "cell_type": "code",
   "execution_count": 4,
   "id": "744d38f9",
   "metadata": {},
   "outputs": [],
   "source": [
    "train_groupped_by_income_flag = dataset_train.groupby(['app_id', 'income_flag'])[num_cat_features].agg(aggs).reset_index()\n",
    "test_groupped_by_income_flag = dataset_test.groupby(['app_id', 'income_flag'])[num_cat_features].agg(aggs).reset_index()\n",
    "\n",
    "train_groupped_by_income_flag = train_groupped_by_income_flag.sort_values('app_id')\n",
    "test_groupped_by_income_flag = test_groupped_by_income_flag.sort_values('app_id')"
   ]
  },
  {
   "cell_type": "code",
   "execution_count": 5,
   "id": "6c766178",
   "metadata": {},
   "outputs": [],
   "source": [
    "base_data = {}\n",
    "    \n",
    "for i in range(1, 4):\n",
    "    for col in train_groupped_by_income_flag.columns:\n",
    "        if 'app_id' not in col and 'income_flag' not in col:\n",
    "            base_data[f'{col}_{i}'] = 0"
   ]
  },
  {
   "cell_type": "code",
   "execution_count": null,
   "id": "d4ed1b30",
   "metadata": {},
   "outputs": [],
   "source": [
    "new_train_dataset = []\n",
    "\n",
    "last_app_id = -1           \n",
    "    \n",
    "for _, row in zip(tqdm(range(len(train_groupped_by_income_flag))), train_groupped_by_income_flag.iterrows()):\n",
    "    row = row[1]\n",
    "    app_id = row['app_id'][0]\n",
    "    \n",
    "    if app_id != last_app_id:\n",
    "        if last_app_id != -1:\n",
    "            new_train_dataset.append(data)\n",
    "        data = {**{'app_id': app_id} , **deepcopy(base_data)}\n",
    "        last_app_id = app_id\n",
    "\n",
    "    for col in row.items():\n",
    "        col_name = col[0]\n",
    "        col_value = col[1]\n",
    "\n",
    "        if 'app_id' not in col_name and 'income_flag' not in col_name:\n",
    "            if 'set' in col_name:\n",
    "                col_value = len(col_value)\n",
    "\n",
    "            data[f'{col_name}_{int(row[\"income_flag\"])}'] = col_value\n",
    "    \n",
    "new_train_dataset = pd.DataFrame(new_train_dataset)"
   ]
  },
  {
   "cell_type": "code",
   "execution_count": null,
   "id": "05bb017c",
   "metadata": {},
   "outputs": [],
   "source": [
    "new_test_dataset = []\n",
    "\n",
    "last_app_id = -1           \n",
    "    \n",
    "for _, row in zip(tqdm(range(len(test_groupped_by_income_flag))), test_groupped_by_income_flag.iterrows()):\n",
    "    row = row[1]\n",
    "    app_id = row['app_id'][0]\n",
    "    \n",
    "    if app_id != last_app_id:\n",
    "        if last_app_id != -1:\n",
    "            new_test_dataset.append(data)\n",
    "        data = {**{'app_id': app_id} , **deepcopy(base_data)}\n",
    "        last_app_id = app_id\n",
    "\n",
    "    for col in row.items():\n",
    "        col_name = col[0]\n",
    "        col_value = col[1]\n",
    "\n",
    "        if 'app_id' not in col_name and 'income_flag' not in col_name:\n",
    "            if 'set' in col_name:\n",
    "                col_value = len(col_value)\n",
    "\n",
    "            data[f'{col_name}_{int(row[\"income_flag\"])}'] = col_value\n",
    "    \n",
    "new_test_dataset = pd.DataFrame(new_test_dataset)"
   ]
  },
  {
   "cell_type": "code",
   "execution_count": null,
   "id": "35656c36",
   "metadata": {},
   "outputs": [],
   "source": [
    "cat_features_for_catboost = [feature for feature in new_train_dataset.columns if any([f in feature for f in cat_features]) and any([agg in feature.split(',')[1] for agg in ['max', 'min', 'count', 'set']])] + ['product']"
   ]
  },
  {
   "cell_type": "code",
   "execution_count": null,
   "id": "f067462a",
   "metadata": {},
   "outputs": [],
   "source": [
    "new_train_dataset['product'] = target_train['product'].tolist()\n",
    "new_train_dataset['flag'] = target_train['flag'].tolist()"
   ]
  },
  {
   "cell_type": "code",
   "execution_count": null,
   "id": "09f3ea0c",
   "metadata": {},
   "outputs": [],
   "source": [
    "new_test_dataset['product'] = target_test['product'].tolist()"
   ]
  },
  {
   "cell_type": "code",
   "execution_count": null,
   "id": "a0d7fafc",
   "metadata": {},
   "outputs": [],
   "source": [
    "for f in cat_features_for_catboost:\n",
    "    new_train_dataset[f] = new_train_dataset[f].astype(np.int32)"
   ]
  },
  {
   "cell_type": "code",
   "execution_count": null,
   "id": "7ec2c6e1",
   "metadata": {},
   "outputs": [],
   "source": [
    "for f in cat_features_for_catboost:\n",
    "    new_test_dataset[f] = new_test_dataset[f].astype(np.int32)"
   ]
  },
  {
   "cell_type": "code",
   "execution_count": null,
   "id": "182371ef",
   "metadata": {},
   "outputs": [],
   "source": [
    "new_train_dataset = new_train_dataset.fillna(0)\n",
    "new_test_dataset = new_test_dataset.fillna(0)"
   ]
  },
  {
   "cell_type": "code",
   "execution_count": null,
   "id": "e6ddc110",
   "metadata": {},
   "outputs": [],
   "source": [
    "new_train_dataset.to_csv('new_train_dataset.csv')\n",
    "new_test_dataset.to_csv('new_test_dataset.csv')"
   ]
  }
 ],
 "metadata": {
  "kernelspec": {
   "display_name": "Python 3 (ipykernel)",
   "language": "python",
   "name": "python3"
  },
  "language_info": {
   "codemirror_mode": {
    "name": "ipython",
    "version": 3
   },
   "file_extension": ".py",
   "mimetype": "text/x-python",
   "name": "python",
   "nbconvert_exporter": "python",
   "pygments_lexer": "ipython3",
   "version": "3.7.15"
  }
 },
 "nbformat": 4,
 "nbformat_minor": 5
}
